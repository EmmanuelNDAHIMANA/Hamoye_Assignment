{
 "cells": [
  {
   "cell_type": "code",
   "execution_count": 5,
   "metadata": {},
   "outputs": [],
   "source": [
    "# Importing the libraries\n",
    "import pandas as pd\n",
    "import numpy as np\n",
    "import matplotlib.pyplot as plt\n",
    "import seaborn as sns"
   ]
  },
  {
   "cell_type": "code",
   "execution_count": 3,
   "metadata": {},
   "outputs": [],
   "source": [
    "url = 'https://raw.githubusercontent.com/EmmanuelNDAHIMANA/Hamoye_Assignment/master/energydata_complete.csv'\n",
    "energydata = pd.read_csv(url)"
   ]
  },
  {
   "cell_type": "code",
   "execution_count": 4,
   "metadata": {},
   "outputs": [],
   "source": [
    "#Rename the columns for better identification\n",
    "column_namess = { 'Appliances':'Target', 'T1':'Temp_kitc', 'RH_1':'Hum_kitc', 'T2':'Temp_living_room',\n",
    "                 'RH_2':'Hum_living_room', 'T3':'Temp_laundry','RH_3':'Hum_laundry', 'T4':'Temp_office',\n",
    "                 'RH_4':'Hum_office', 'T5':'Temp_bathroom', 'RH_5':'Hum_bathroom', 'T6':'Temp_outside',\n",
    "                 'RH_6':'Hum_outside', 'T7':'Temp_ironing_room', 'RH_7':'Hum_ironing_room', \n",
    "                 'T8':'Temp_teenager_room','RH_8':'Hum_teenager_room', 'T9':'Temp_parents_room', \n",
    "                 'RH_9':'Hum_parents_room', 'T_out':'Temp_outside_CWS', 'Press_mm_hg':'Pressure_CWS',\n",
    "                 'RH_out':'Hup_outside_CWS', 'Windspeed':'Wind_speed_CWS','Visibility':'Visibility_CWS',\n",
    "                 'Tdewpoint':'Tdewpoint_CWS', 'rv1':'Random_var1', 'rv2':'Random_var2'\n",
    "} \n",
    "energydata = energydata.rename(columns=column_namess)"
   ]
  },
  {
   "cell_type": "code",
   "execution_count": 6,
   "metadata": {},
   "outputs": [],
   "source": [
    "# Dropping some columns before we scal the data set\n",
    "energydata = energydata.drop(columns = ['date', 'lights'])"
   ]
  },
  {
   "cell_type": "code",
   "execution_count": 7,
   "metadata": {},
   "outputs": [],
   "source": [
    "# Scalling the data set before splitting them and define the predictors and target data as well.\n",
    "from sklearn.model_selection import GridSearchCV, train_test_split, cross_val_score\n",
    "from sklearn.preprocessing import MinMaxScaler\n",
    "\n",
    "minmax = MinMaxScaler()\n",
    "\n",
    "energydata_scalled = pd.DataFrame(minmax.fit_transform(energydata), columns=energydata.columns)\n",
    "energydata_predictors = energydata_scalled.drop(columns = ['Target'])\n",
    "energydata_target = energydata_scalled[['Target']]"
   ]
  },
  {
   "cell_type": "code",
   "execution_count": 8,
   "metadata": {},
   "outputs": [],
   "source": [
    "#Split the data into training and testing set with 30% of test with 42% random state.\n",
    "x_train, x_test, y_train, y_test = train_test_split(energydata_predictors, energydata_target, test_size = 0.3, random_state = 42)"
   ]
  },
  {
   "cell_type": "code",
   "execution_count": 11,
   "metadata": {},
   "outputs": [],
   "source": [
    "# Fitting the multiple linear regression with grid search for optimal parametors\n",
    "from sklearn.linear_model import LinearRegression, Lasso, Ridge, ElasticNet\n",
    "from sklearn.metrics import r2_score, mean_absolute_error, mean_squared_error\n",
    "\n",
    "lin_mod = LinearRegression()\n",
    "lin_model = lin_mod.fit(x_train, y_train)\n",
    "pred_lin = lin_model.predict(x_test)"
   ]
  },
  {
   "cell_type": "code",
   "execution_count": 12,
   "metadata": {},
   "outputs": [
    {
     "name": "stdout",
     "output_type": "stream",
     "text": [
      "R-square: 0.64\n"
     ]
    }
   ],
   "source": [
    "#From the dataset, fit a linear model on the relationship between the temperature\n",
    "#in the living room in Celsius (x = T2) and the temperature outside the building (y = T6).\n",
    "#What is the R^2 value in two D.P?\n",
    "linear_model = LinearRegression().fit(energydata[['Temp_living_room']], energydata[['Temp_outside']])\n",
    "predicted_values = linear_model.predict(energydata[['Temp_living_room']])\n",
    "print(\"R-square:\",round(r2_score(energydata[['Temp_outside']], predicted_values), 2))"
   ]
  },
  {
   "cell_type": "code",
   "execution_count": 13,
   "metadata": {},
   "outputs": [
    {
     "name": "stdout",
     "output_type": "stream",
     "text": [
      "MAE: 2.84\n"
     ]
    }
   ],
   "source": [
    "# What is the Mean Absolute Error (in two decimal places)?\n",
    "print(\"MAE:\", round(mean_absolute_error(energydata[['Temp_outside']], predicted_values),2))"
   ]
  },
  {
   "cell_type": "code",
   "execution_count": 14,
   "metadata": {},
   "outputs": [
    {
     "name": "stdout",
     "output_type": "stream",
     "text": [
      "Residual sum of squares: 262122.67\n"
     ]
    }
   ],
   "source": [
    "# What is the Residual Sum of Squares (in two decimal places)\n",
    "print(\"Residual sum of squares: %.2f\" % ((predicted_values - energydata[['Temp_outside']]) ** 2).sum())"
   ]
  },
  {
   "cell_type": "code",
   "execution_count": 15,
   "metadata": {},
   "outputs": [
    {
     "name": "stdout",
     "output_type": "stream",
     "text": [
      "MSE: 3.644\n"
     ]
    }
   ],
   "source": [
    "# What is the Root Mean Squared Error (in three decimal places)?\n",
    "print(\"MSE:\", round(np.sqrt(mean_squared_error(energydata[['Temp_outside']], predicted_values)),3))"
   ]
  },
  {
   "cell_type": "code",
   "execution_count": 16,
   "metadata": {},
   "outputs": [
    {
     "name": "stdout",
     "output_type": "stream",
     "text": [
      "R-square: 0.642\n"
     ]
    }
   ],
   "source": [
    "# What is the Coefficient of Determination (in two decimal places)? \n",
    "print(\"R-square:\",round(r2_score(energydata[['Temp_outside']], predicted_values), 3))"
   ]
  },
  {
   "cell_type": "code",
   "execution_count": 17,
   "metadata": {},
   "outputs": [
    {
     "name": "stdout",
     "output_type": "stream",
     "text": [
      "Temp_kitc:  [-0.00328105  0.5535466  -0.23617792 -0.45669795  0.29062714  0.09604827\n",
      "  0.028981    0.02638578 -0.01565684  0.01600579  0.23642491  0.03804865\n",
      "  0.01031878 -0.04461364  0.10199505 -0.15759548 -0.18994077 -0.03980032\n",
      " -0.32185967  0.00683933 -0.07767065  0.02918313  0.01230661  0.11775773\n",
      "  0.0007701   0.0007701 ]\n"
     ]
    },
    {
     "ename": "IndexError",
     "evalue": "index 1 is out of bounds for axis 0 with size 1",
     "output_type": "error",
     "traceback": [
      "\u001b[0;31m---------------------------------------------------------------------------\u001b[0m",
      "\u001b[0;31mIndexError\u001b[0m                                Traceback (most recent call last)",
      "\u001b[0;32m<ipython-input-17-b6a93ae8e321>\u001b[0m in \u001b[0;36m<module>\u001b[0;34m\u001b[0m\n\u001b[1;32m      4\u001b[0m \u001b[0;34m\u001b[0m\u001b[0m\n\u001b[1;32m      5\u001b[0m \u001b[0;32mfor\u001b[0m \u001b[0mcoef\u001b[0m\u001b[0;34m,\u001b[0m \u001b[0mcol\u001b[0m \u001b[0;32min\u001b[0m \u001b[0menumerate\u001b[0m\u001b[0;34m(\u001b[0m\u001b[0mx_train\u001b[0m\u001b[0;34m.\u001b[0m\u001b[0mcolumns\u001b[0m\u001b[0;34m)\u001b[0m\u001b[0;34m:\u001b[0m\u001b[0;34m\u001b[0m\u001b[0;34m\u001b[0m\u001b[0m\n\u001b[0;32m----> 6\u001b[0;31m     \u001b[0mprint\u001b[0m\u001b[0;34m(\u001b[0m\u001b[0;34mf'{col}:  {lin_model.coef_[coef]}'\u001b[0m\u001b[0;34m)\u001b[0m\u001b[0;34m\u001b[0m\u001b[0;34m\u001b[0m\u001b[0m\n\u001b[0m",
      "\u001b[0;31mIndexError\u001b[0m: index 1 is out of bounds for axis 0 with size 1"
     ]
    }
   ],
   "source": [
    "# Obtain the feature weights from your linear model above. \n",
    "# Which features have the lowest and highest weights respectively?\n",
    "\n",
    "for coef, col in enumerate(x_train.columns):\n",
    "    print(f'{col}:  {lin_model.coef_[coef]}')"
   ]
  },
  {
   "cell_type": "code",
   "execution_count": 18,
   "metadata": {},
   "outputs": [
    {
     "name": "stdout",
     "output_type": "stream",
     "text": [
      "MSE: 0.088\n"
     ]
    }
   ],
   "source": [
    "# Train a ridge regression model with an alpha value of 0.4. Is there any \n",
    "# change to the root mean squared error (RMSE)\n",
    "# when evaluated on the test set?\n",
    "ridge = Ridge(alpha=0.4).fit(x_train, y_train)\n",
    "\n",
    "ridge_p = ridge.predict(x_test)\n",
    "print(\"MSE:\", round(np.sqrt(mean_squared_error(y_test, ridge_p)),3))"
   ]
  },
  {
   "cell_type": "code",
   "execution_count": 20,
   "metadata": {},
   "outputs": [
    {
     "name": "stdout",
     "output_type": "stream",
     "text": [
      "MSE: 0.095\n"
     ]
    }
   ],
   "source": [
    "# What is the new RMSE with the Lasso Regression (in 3 decimal places)?\n",
    "lass_mod = Lasso()\n",
    "lass_model = lass_mod.fit(x_train, y_train)\n",
    "pred_lass  = lass_model.predict(x_test)\n",
    "print(\"MSE:\", round(np.sqrt(mean_squared_error(y_test, pred_lass)),3))"
   ]
  },
  {
   "cell_type": "code",
   "execution_count": null,
   "metadata": {},
   "outputs": [],
   "source": []
  }
 ],
 "metadata": {
  "kernelspec": {
   "display_name": "Python 3",
   "language": "python",
   "name": "python3"
  },
  "language_info": {
   "codemirror_mode": {
    "name": "ipython",
    "version": 3
   },
   "file_extension": ".py",
   "mimetype": "text/x-python",
   "name": "python",
   "nbconvert_exporter": "python",
   "pygments_lexer": "ipython3",
   "version": "3.6.9"
  }
 },
 "nbformat": 4,
 "nbformat_minor": 4
}
